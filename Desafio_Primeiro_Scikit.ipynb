{
  "nbformat": 4,
  "nbformat_minor": 0,
  "metadata": {
    "colab": {
      "provenance": [],
      "authorship_tag": "ABX9TyNTaZP9gpfex5KaCMteNBe7",
      "include_colab_link": true
    },
    "kernelspec": {
      "name": "python3",
      "display_name": "Python 3"
    },
    "language_info": {
      "name": "python"
    }
  },
  "cells": [
    {
      "cell_type": "markdown",
      "metadata": {
        "id": "view-in-github",
        "colab_type": "text"
      },
      "source": [
        "<a href=\"https://colab.research.google.com/github/R0BERT10/Desafio-Primeiro-Scikit-Rocketseat/blob/main/Desafio_Primeiro_Scikit.ipynb\" target=\"_parent\"><img src=\"https://colab.research.google.com/assets/colab-badge.svg\" alt=\"Open In Colab\"/></a>"
      ]
    },
    {
      "cell_type": "markdown",
      "source": [
        "# **Desafio - Meu primeiro modelo com Scikit-Learn**"
      ],
      "metadata": {
        "id": "sACgBD1VysnC"
      }
    },
    {
      "cell_type": "markdown",
      "source": [
        "De acordo com o que foi ensinado no módulo, iremos trabalhar com previsões de vendas de uma loja. O dicionário disponibilizado não é difícil de entender, porém deveremos contar com as implementações que vimos no módulo para:\n",
        "\n",
        "- Tratar os dados\n",
        "- Formatar (se necessário)\n",
        "- Treinar o modelo\n",
        "- Prever a venda de dezembro\n",
        "- Montar um histograma dos dados\n",
        "- Montar um plot de scatter"
      ],
      "metadata": {
        "id": "KKO0rxF_y65d"
      }
    },
    {
      "cell_type": "code",
      "execution_count": null,
      "metadata": {
        "id": "A-TtbUMxycZi"
      },
      "outputs": [],
      "source": [
        "import pandas as pd\n",
        "\n",
        "dados_vendas = {\n",
        "    'mes': ['Janeiro', 'Fevereiro', 'Março', 'Abril', 'Maio', 'Junho', 'Julho', 'Agosto', 'Setembro', 'Outubro', 'Novembro', 'Dezembro'],\n",
        "    'vendas': [2000, 2200, 2300, 2500, 2600, 2700, 2800, 2900, 3000, 3100, 3200, 3300]\n",
        "}"
      ]
    },
    {
      "cell_type": "code",
      "source": [
        "df_dados_vendas = pd.DataFrame.from_dict(dados_vendas)\n",
        "df_dados_vendas.head()"
      ],
      "metadata": {
        "id": "tWffU_C6zNpI"
      },
      "execution_count": null,
      "outputs": []
    },
    {
      "cell_type": "markdown",
      "source": [
        "## Tratar os dados e Formatar (se necessário)"
      ],
      "metadata": {
        "id": "-YtXrXivzTzq"
      }
    },
    {
      "cell_type": "code",
      "source": [
        "meses = {\n",
        "    'Janeiro': 1, 'Fevereiro': 2, 'Março': 3, 'Abril': 4,\n",
        "    'Maio': 5, 'Junho': 6, 'Julho': 7, 'Agosto': 8,\n",
        "    'Setembro': 9, 'Outubro': 10, 'Novembro': 11, 'Dezembro': 12\n",
        "}\n",
        "\n",
        "# Convertendo a coluna de mês para número\n",
        "df_dados_vendas['mes'] = df_dados_vendas['mes'].map(meses)\n",
        "\n",
        "df_dados_vendas"
      ],
      "metadata": {
        "id": "LoM7PkjCzsFt"
      },
      "execution_count": null,
      "outputs": []
    },
    {
      "cell_type": "markdown",
      "source": [
        "## Treinar o modelo"
      ],
      "metadata": {
        "id": "ceXbuAn50p51"
      }
    },
    {
      "cell_type": "code",
      "source": [
        "from sklearn.linear_model import LinearRegression\n",
        "\n",
        "df_dados_vendas_sem_dezembro = df_dados_vendas[df_dados_vendas['mes'] != 12]\n",
        "\n",
        "y = df_dados_vendas_sem_dezembro['vendas']\n",
        "x = df_dados_vendas_sem_dezembro.drop('vendas', axis=1)\n",
        "\n",
        "modelo_regressao_linear = LinearRegression()\n",
        "modelo_regressao_linear.fit(x, y)"
      ],
      "metadata": {
        "id": "wNypq-9n0r4W"
      },
      "execution_count": null,
      "outputs": []
    },
    {
      "cell_type": "markdown",
      "source": [
        "## Prever a venda de dezembro"
      ],
      "metadata": {
        "id": "OtxIypcE5Hb1"
      }
    },
    {
      "cell_type": "code",
      "source": [
        "from sklearn.metrics import mean_squared_error\n",
        "from sklearn.metrics import r2_score\n",
        "\n",
        "df_dados_vendas_dezembro = df_dados_vendas[df_dados_vendas['mes'] == 12]\n",
        "\n",
        "y_dezembro = df_dados_vendas_dezembro['vendas']\n",
        "x_dezembro = df_dados_vendas_dezembro.drop('vendas', axis=1)\n",
        "\n",
        "vendas_previstas_dezembro = modelo_regressao_linear.predict(x_dezembro)\n",
        "\n",
        "print(f\"Venda prevista para dezembro pelo modelo linear: {vendas_previstas_dezembro[0]}\\n\")\n",
        "\n",
        "# caculando erros do modelo\n",
        "erro_quadratico_medio = mean_squared_error(y_dezembro, vendas_previstas_dezembro)\n",
        "#coeficiente_r2 = r2_score(y_dezembro, vendas_previstas_dezembro)\n",
        "\n",
        "print(f\"Erro quadrático médio: {erro_quadratico_medio}.\")\n",
        "print(\"Não e possivel caucular o coeficiente R² devido a pouca quantidade de dados.\")"
      ],
      "metadata": {
        "id": "QWoyOr-Z5Jpj"
      },
      "execution_count": null,
      "outputs": []
    },
    {
      "cell_type": "markdown",
      "source": [
        "## Montar um histograma dos dados"
      ],
      "metadata": {
        "id": "rtmBPYIEC-A_"
      }
    },
    {
      "cell_type": "code",
      "source": [
        "import seaborn as sns\n",
        "\n",
        "# Apply the default theme\n",
        "sns.set_theme()\n",
        "\n",
        "# Create a visualization\n",
        "sns.histplot(data=df_dados_vendas, x='vendas')"
      ],
      "metadata": {
        "id": "WPQAdRBJDAQ1"
      },
      "execution_count": null,
      "outputs": []
    },
    {
      "cell_type": "markdown",
      "source": [
        "## Montar um plot de scatter"
      ],
      "metadata": {
        "id": "daJP1KhOE1Yl"
      }
    },
    {
      "cell_type": "code",
      "source": [
        "sns.scatterplot(data=df_dados_vendas, x='mes', y='vendas')"
      ],
      "metadata": {
        "id": "qkLbJ3wfE7BT"
      },
      "execution_count": null,
      "outputs": []
    }
  ]
}